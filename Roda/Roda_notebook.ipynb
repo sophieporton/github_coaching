{
 "cells": [
  {
   "cell_type": "code",
   "execution_count": 1,
   "metadata": {},
   "outputs": [],
   "source": [
    "import sqlite3\n",
    "from datetime import date, timedelta\n",
    "import random"
   ]
  },
  {
   "cell_type": "code",
   "execution_count": 8,
   "metadata": {},
   "outputs": [],
   "source": [
    "# Connect to the SQLite database (or create it if it doesn't exist)\n",
    "connection = sqlite3.connect(\"library.db\")\n",
    "cursor = connection.cursor()"
   ]
  },
  {
   "cell_type": "code",
   "execution_count": 6,
   "metadata": {},
   "outputs": [
    {
     "name": "stdout",
     "output_type": "stream",
     "text": [
      "Book: Harry Potter and the Sorcerer's Stone, Author: J.K. Rowling\n",
      "Book: Harry Potter and the Chamber of Secrets, Author: J.K. Rowling\n",
      "Book: A Game of Thrones, Author: George R.R. Martin\n",
      "Book: The Hobbit, Author: J.R.R. Tolkien\n",
      "Book: Murder on the Orient Express, Author: Agatha Christie\n",
      "Book: The Shining, Author: Stephen King\n",
      "Book: Foundation, Author: Isaac Asimov\n",
      "Book: The Handmaid's Tale, Author: Margaret Atwood\n",
      "Book: Pride and Prejudice, Author: Jane Austen\n",
      "Book: Great Expectations, Author: Charles Dickens\n",
      "Book: Adventures of Huckleberry Finn, Author: Mark Twain\n",
      "Book: War and Peace, Author: Leo Tolstoy\n",
      "Book: The Old Man and the Sea, Author: Ernest Hemingway\n",
      "Book: The Great Gatsby, Author: F. Scott Fitzgerald\n",
      "Book: To Kill a Mockingbird, Author: Harper Lee\n",
      "Book: Les Miserables, Author: Victor Hugo\n",
      "Book: One Hundred Years of Solitude, Author: Gabriel Garcia Marquez\n",
      "Book: Beloved, Author: Toni Morrison\n",
      "Book: The Time Machine, Author: H.G. Wells\n",
      "Book: Frankenstein, Author: Mary Shelley\n"
     ]
    }
   ],
   "source": [
    "# retreive all books and their authors \n",
    "# join based on author id\n",
    "connection = sqlite3.connect(\"library.db\")\n",
    "cursor = connection.cursor()\n",
    "query1 = \"\"\" Select B.title AS book_title, A.name as author_name FROM Books AS B\n",
    "join Authors AS A ON B.AuthorID = A.AuthorID; \"\"\"\n",
    "cursor.execute(query1)\n",
    "results1 = cursor.fetchall()\n",
    "for row in results1:\n",
    "    print(f\"Book: {row[0]}, Author: {row[1]}\")"
   ]
  },
  {
   "cell_type": "code",
   "execution_count": 8,
   "metadata": {},
   "outputs": [
    {
     "name": "stdout",
     "output_type": "stream",
     "text": [
      " Adding new borrower Roda Abdulkadir\n"
     ]
    }
   ],
   "source": [
    "# insert a new borrower\n",
    "\n",
    "query2 = \"\"\" INSERT INTO Borrowers (Name, Email)\n",
    "VALUES ('Roda Abdulkadir', 'rodaabdulkadir@email.com')\n",
    "\"\"\"\n",
    "cursor.execute(query2)\n",
    "connection.commit() \n",
    "print(\" Adding new borrower Roda Abdulkadir\")\n"
   ]
  },
  {
   "cell_type": "code",
   "execution_count": 11,
   "metadata": {},
   "outputs": [
    {
     "name": "stdout",
     "output_type": "stream",
     "text": [
      "\n",
      "3. Update a Borrower's Return Date:\n"
     ]
    }
   ],
   "source": [
    "# update a borrower's return date \n",
    "\n",
    "query3 = \"\"\" UPDATE BorrowedBooks\n",
    "SET ReturnDate = '2024-11-19'\n",
    "WHERE BorrowerID = 18 AND BookID = 12\n",
    "\"\"\"\n",
    "cursor.execute(query3)\n",
    "connection.commit()\n",
    "print(\"\\n3. Update a Borrower's Return Date:\")"
   ]
  },
  {
   "cell_type": "code",
   "execution_count": 9,
   "metadata": {},
   "outputs": [],
   "source": [
    "# find overdue books (using today's date)"
   ]
  },
  {
   "cell_type": "code",
   "execution_count": 5,
   "metadata": {},
   "outputs": [
    {
     "name": "stdout",
     "output_type": "stream",
     "text": [
      "1. Convert All Book Titles to Uppercase:\n",
      "(\"HARRY POTTER AND THE SORCERER'S STONE\",)\n",
      "('HARRY POTTER AND THE CHAMBER OF SECRETS',)\n",
      "('A GAME OF THRONES',)\n",
      "('THE HOBBIT',)\n",
      "('MURDER ON THE ORIENT EXPRESS',)\n",
      "('THE SHINING',)\n",
      "('FOUNDATION',)\n",
      "(\"THE HANDMAID'S TALE\",)\n",
      "('PRIDE AND PREJUDICE',)\n",
      "('GREAT EXPECTATIONS',)\n",
      "('ADVENTURES OF HUCKLEBERRY FINN',)\n",
      "('WAR AND PEACE',)\n",
      "('THE OLD MAN AND THE SEA',)\n",
      "('THE GREAT GATSBY',)\n",
      "('TO KILL A MOCKINGBIRD',)\n",
      "('LES MISERABLES',)\n",
      "('ONE HUNDRED YEARS OF SOLITUDE',)\n",
      "('BELOVED',)\n",
      "('THE TIME MACHINE',)\n",
      "('FRANKENSTEIN',)\n"
     ]
    }
   ],
   "source": [
    "# 1. Convert All Book Titles to Uppercase\n",
    "\n",
    "query1 = \"\"\"\n",
    "SELECT UPPER(title) as upper_case_title\n",
    "FROM books;\n",
    "\"\"\"\n",
    "cursor.execute(query1)\n",
    "result1 = cursor.fetchall()\n",
    "print(\"1. Convert All Book Titles to Uppercase:\")\n",
    "for row in result1:\n",
    "\n",
    "    print(row)\n"
   ]
  },
  {
   "cell_type": "code",
   "execution_count": 6,
   "metadata": {},
   "outputs": [
    {
     "name": "stdout",
     "output_type": "stream",
     "text": [
      "\n",
      "2. Find Borrowers with Short Names:\n",
      "('Bob Smith',)\n",
      "('Eve Adams',)\n",
      "('Hank Pym',)\n",
      "('Jack Ryan',)\n"
     ]
    }
   ],
   "source": [
    "# 2. Find Borrowers with Short Names (<= 10 characters)\n",
    "\n",
    "query2 = \"\"\"\n",
    "SELECT Name\n",
    "From Borrowers\n",
    "WHERE LENGTH(NAME) <10;\n",
    "\n",
    "\"\"\"\n",
    "cursor.execute(query2)\n",
    "result2 = cursor.fetchall()\n",
    "print(\"\\n2. Find Borrowers with Short Names:\")\n",
    "for row in result2:\n",
    "\n",
    "    print(row)"
   ]
  },
  {
   "cell_type": "code",
   "execution_count": 20,
   "metadata": {},
   "outputs": [
    {
     "name": "stdout",
     "output_type": "stream",
     "text": [
      "\n",
      "3. Count Books Borrowed Each Year:\n",
      "(20, '2024')\n"
     ]
    }
   ],
   "source": [
    "# 3. Count Books Borrowed Each Year\n",
    "\n",
    "query3 = \"\"\"\n",
    "SELECT COUNT(BookID) AS books_borrowed, STRFTIME('%Y', BorrowedDate) AS Year\n",
    "FROM BorrowedBooks\n",
    "GROUP BY Year;\n",
    "\"\"\"\n",
    "cursor.execute(query3)\n",
    "result3 = cursor.fetchall()\n",
    "print(\"\\n3. Count Books Borrowed Each Year:\")\n",
    "for row in result3:\n",
    "    print(row)"
   ]
  },
  {
   "cell_type": "code",
   "execution_count": null,
   "metadata": {},
   "outputs": [
    {
     "name": "stdout",
     "output_type": "stream",
     "text": [
      "\n",
      "7. Count Books Borrowed on Each Day of the Week:\n",
      "(3, '0')\n",
      "(3, '2')\n",
      "(5, '3')\n",
      "(3, '4')\n",
      "(2, '5')\n",
      "(4, '6')\n"
     ]
    }
   ],
   "source": [
    "# 7. Count Books Borrowed on Each Day of the Week\n",
    "\n",
    "query7 = \"\"\"\n",
    "SELECT COUNT(BookID) AS books_borrowed, STRFTIME('%w', BorrowedDate) AS DayOfWeek\n",
    "FROM BorrowedBooks\n",
    "GROUP BY DayOfWeek;\n",
    "\"\"\"\n",
    "cursor.execute(query7)\n",
    "result7 = cursor.fetchall()\n",
    "print(\"\\n7. Count Books Borrowed on Each Day of the Week:\")\n",
    "for row in result7:\n",
    "    print(row)"
   ]
  },
  {
   "cell_type": "code",
   "execution_count": 47,
   "metadata": {},
   "outputs": [
    {
     "name": "stdout",
     "output_type": "stream",
     "text": [
      "\n",
      "8. Find the Most Common Day of the Week a Book Was Borrowed:\n",
      "(5, '3')\n"
     ]
    }
   ],
   "source": [
    "# 8. Find the Most Common Day of the Week a Book Was Borrowed\n",
    "\n",
    "query8 = \"\"\"\n",
    "SELECT COUNT(BookID) AS books_borrowed, STRFTIME('%w', BorrowedDate) AS DayOfWeek\n",
    "FROM BorrowedBooks\n",
    "GROUP BY DayOfWeek \n",
    "ORDER BY books_borrowed DESC\n",
    "LIMIT 1;\n",
    "\"\"\" \n",
    "cursor.execute(query8)\n",
    "result8 = cursor.fetchall()\n",
    "print(\"\\n8. Find the Most Common Day of the Week a Book Was Borrowed:\")\n",
    "for row in result8:\n",
    "\n",
    "    print(row)"
   ]
  }
 ],
 "metadata": {
  "kernelspec": {
   "display_name": "Python 3",
   "language": "python",
   "name": "python3"
  },
  "language_info": {
   "codemirror_mode": {
    "name": "ipython",
    "version": 3
   },
   "file_extension": ".py",
   "mimetype": "text/x-python",
   "name": "python",
   "nbconvert_exporter": "python",
   "pygments_lexer": "ipython3",
   "version": "3.10.4"
  }
 },
 "nbformat": 4,
 "nbformat_minor": 2
}
