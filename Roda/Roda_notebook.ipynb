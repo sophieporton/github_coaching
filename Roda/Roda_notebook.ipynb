{
 "cells": [
  {
   "cell_type": "code",
   "execution_count": 1,
   "metadata": {},
   "outputs": [],
   "source": [
    "import sqlite3\n",
    "from datetime import date, timedelta\n",
    "import random"
   ]
  },
  {
   "cell_type": "code",
   "execution_count": 8,
   "metadata": {},
   "outputs": [],
   "source": [
    "# Connect to the SQLite database (or create it if it doesn't exist)\n",
    "connection = sqlite3.connect(\"library.db\")\n",
    "cursor = connection.cursor()"
   ]
  },
  {
   "cell_type": "code",
   "execution_count": 3,
   "metadata": {},
   "outputs": [
    {
     "data": {
      "text/plain": [
       "<sqlite3.Cursor at 0x22fcddf8ec0>"
      ]
     },
     "execution_count": 3,
     "metadata": {},
     "output_type": "execute_result"
    }
   ],
   "source": [
    "# Create the Authors table\n",
    "cursor.execute('''\n",
    "CREATE TABLE IF NOT EXISTS Authors (\n",
    "    AuthorID INTEGER PRIMARY KEY AUTOINCREMENT,\n",
    "    Name TEXT NOT NULL,\n",
    "    Country TEXT\n",
    ")\n",
    "''')\n",
    "\n",
    "# Create the Books table\n",
    "cursor.execute('''\n",
    "CREATE TABLE IF NOT EXISTS Books (\n",
    "    BookID INTEGER PRIMARY KEY AUTOINCREMENT,\n",
    "    Title TEXT NOT NULL,\n",
    "    Genre TEXT,\n",
    "    AuthorID INTEGER NOT NULL,\n",
    "    FOREIGN KEY (AuthorID) REFERENCES Authors(AuthorID)\n",
    ")\n",
    "''')\n",
    "\n",
    "# Create the Borrowers table\n",
    "cursor.execute('''\n",
    "CREATE TABLE IF NOT EXISTS Borrowers (\n",
    "    BorrowerID INTEGER PRIMARY KEY AUTOINCREMENT,\n",
    "    Name TEXT NOT NULL,\n",
    "    Email TEXT UNIQUE NOT NULL\n",
    ")\n",
    "''')\n",
    "\n",
    "# Create the BorrowedBooks table\n",
    "cursor.execute('''\n",
    "CREATE TABLE IF NOT EXISTS BorrowedBooks (\n",
    "    BorrowedID INTEGER PRIMARY KEY AUTOINCREMENT,\n",
    "    BorrowerID INTEGER NOT NULL,\n",
    "    BookID INTEGER NOT NULL,\n",
    "    BorrowedDate DATE NOT NULL,\n",
    "    ReturnDate DATE,\n",
    "    FOREIGN KEY (BorrowerID) REFERENCES Borrowers(BorrowerID),\n",
    "    FOREIGN KEY (BookID) REFERENCES Books(BookID)\n",
    ")\n",
    "''')"
   ]
  },
  {
   "cell_type": "code",
   "execution_count": 4,
   "metadata": {},
   "outputs": [
    {
     "data": {
      "text/plain": [
       "<sqlite3.Cursor at 0x22fcddf8ec0>"
      ]
     },
     "execution_count": 4,
     "metadata": {},
     "output_type": "execute_result"
    }
   ],
   "source": [
    "# Insert authors\n",
    "\n",
    "authors = [\n",
    "    (\"J.K. Rowling\", \"United Kingdom\"),\n",
    "    (\"George R.R. Martin\", \"United States\"),\n",
    "    (\"J.R.R. Tolkien\", \"United Kingdom\"),\n",
    "    (\"Agatha Christie\", \"United Kingdom\"),\n",
    "    (\"Stephen King\", \"United States\"),\n",
    "    (\"Isaac Asimov\", \"Russia\"),\n",
    "    (\"Margaret Atwood\", \"Canada\"),\n",
    "    (\"Jane Austen\", \"United Kingdom\"),\n",
    "    (\"Charles Dickens\", \"United Kingdom\"),\n",
    "    (\"Mark Twain\", \"United States\"),\n",
    "    (\"Leo Tolstoy\", \"Russia\"),\n",
    "    (\"Ernest Hemingway\", \"United States\"),\n",
    "    (\"F. Scott Fitzgerald\", \"United States\"),\n",
    "    (\"Harper Lee\", \"United States\"),\n",
    "    (\"Victor Hugo\", \"France\"),\n",
    "    (\"Gabriel Garcia Marquez\", \"Colombia\"),\n",
    "    (\"Toni Morrison\", \"United States\"),\n",
    "    (\"H.G. Wells\", \"United Kingdom\"),\n",
    "    (\"Franz Kafka\", \"Austria-Hungary\"),\n",
    "    (\"Mary Shelley\", \"United Kingdom\")\n",
    "]\n",
    "cursor.executemany(\"INSERT INTO Authors (Name, Country) VALUES (?, ?)\", authors)\n",
    "\n",
    "# Insert books\n",
    "books = [\n",
    "    (\"Harry Potter and the Sorcerer's Stone\", \"Fantasy\", 1),\n",
    "    (\"Harry Potter and the Chamber of Secrets\", \"Fantasy\", 1),\n",
    "    (\"A Game of Thrones\", \"Fantasy\", 2),\n",
    "    (\"The Hobbit\", \"Fantasy\", 3),\n",
    "    (\"Murder on the Orient Express\", \"Mystery\", 4),\n",
    "    (\"The Shining\", \"Horror\", 5),\n",
    "    (\"Foundation\", \"Science Fiction\", 6),\n",
    "    (\"The Handmaid's Tale\", \"Dystopian\", 7),\n",
    "    (\"Pride and Prejudice\", \"Romance\", 8),\n",
    "    (\"Great Expectations\", \"Classic\", 9),\n",
    "    (\"Adventures of Huckleberry Finn\", \"Adventure\", 10),\n",
    "    (\"War and Peace\", \"Historical Fiction\", 11),\n",
    "    (\"The Old Man and the Sea\", \"Classic\", 12),\n",
    "    (\"The Great Gatsby\", \"Classic\", 13),\n",
    "    (\"To Kill a Mockingbird\", \"Classic\", 14),\n",
    "    (\"Les Miserables\", \"Classic\", 15),\n",
    "    (\"One Hundred Years of Solitude\", \"Magic Realism\", 16),\n",
    "    (\"Beloved\", \"Historical Fiction\", 17),\n",
    "    (\"The Time Machine\", \"Science Fiction\", 18),\n",
    "    (\"Frankenstein\", \"Horror\", 20)\n",
    "]\n",
    "cursor.executemany(\"INSERT INTO Books (Title, Genre, AuthorID) VALUES (?, ?, ?)\", books)\n",
    "\n",
    "# Insert borrower names and emails\n",
    "borrowers = [\n",
    "    (\"Alice Johnson\", \"alice.johnson@example.com\"),\n",
    "    (\"Bob Smith\", \"bob.smith@example.com\"),\n",
    "    (\"Charlie Brown\", \"charlie.brown@example.com\"),\n",
    "    (\"Diana Prince\", \"diana.prince@example.com\"),\n",
    "    (\"Eve Adams\", \"eve.adams@example.com\"),\n",
    "    (\"Frank Castle\", \"frank.castle@example.com\"),\n",
    "    (\"Grace Hopper\", \"grace.hopper@example.com\"),\n",
    "    (\"Hank Pym\", \"hank.pym@example.com\"),\n",
    "    (\"Ivy Carter\", \"ivy.carter@example.com\"),\n",
    "    (\"Jack Ryan\", \"jack.ryan@example.com\"),\n",
    "    (\"Karen Page\", \"karen.page@example.com\"),\n",
    "    (\"Liam Neeson\", \"liam.neeson@example.com\"),\n",
    "    (\"Maggie Smith\", \"maggie.smith@example.com\"),\n",
    "    (\"Nina Simone\", \"nina.simone@example.com\"),\n",
    "    (\"Oscar Wilde\", \"oscar.wilde@example.com\"),\n",
    "    (\"Pam Beesly\", \"pam.beesly@example.com\"),\n",
    "    (\"Quinn Fabray\", \"quinn.fabray@example.com\"),\n",
    "    (\"Rachel Green\", \"rachel.green@example.com\"),\n",
    "    (\"Steve Rogers\", \"steve.rogers@example.com\"),\n",
    "    (\"Tony Stark\", \"tony.stark@example.com\")\n",
    "]\n",
    "cursor.executemany(\"INSERT INTO Borrowers (Name, Email) VALUES (?, ?)\", borrowers)\n",
    "\n",
    "# Insert borrow records\n",
    "borrowed_books = []\n",
    "for i in range(20):\n",
    "    borrower_id = random.randint(1, 20)\n",
    "    book_id = random.randint(1, 20) \n",
    "    borrowed_date = date(2024, 11, 1) + timedelta(days=random.randint(-30, 30))\n",
    "    return_date = (\n",
    "        borrowed_date + timedelta(days=random.randint(1, 15)) \n",
    "        if random.random() > 0.3  \n",
    "        else None\n",
    "    )\n",
    "    borrowed_books.append((borrower_id, book_id, borrowed_date, return_date))\n",
    "\n",
    "cursor.executemany(\n",
    "    \"INSERT INTO BorrowedBooks (BorrowerID, BookID, BorrowedDate, ReturnDate) VALUES (?, ?, ?, ?)\",\n",
    "    borrowed_books\n",
    ")"
   ]
  },
  {
   "cell_type": "code",
   "execution_count": 5,
   "metadata": {},
   "outputs": [],
   "source": [
    "# Commit changes and close the connection\n",
    "connection.commit()\n",
    "connection.close()"
   ]
  },
  {
   "cell_type": "code",
   "execution_count": 6,
   "metadata": {},
   "outputs": [
    {
     "name": "stdout",
     "output_type": "stream",
     "text": [
      "Book: Harry Potter and the Sorcerer's Stone, Author: J.K. Rowling\n",
      "Book: Harry Potter and the Chamber of Secrets, Author: J.K. Rowling\n",
      "Book: A Game of Thrones, Author: George R.R. Martin\n",
      "Book: The Hobbit, Author: J.R.R. Tolkien\n",
      "Book: Murder on the Orient Express, Author: Agatha Christie\n",
      "Book: The Shining, Author: Stephen King\n",
      "Book: Foundation, Author: Isaac Asimov\n",
      "Book: The Handmaid's Tale, Author: Margaret Atwood\n",
      "Book: Pride and Prejudice, Author: Jane Austen\n",
      "Book: Great Expectations, Author: Charles Dickens\n",
      "Book: Adventures of Huckleberry Finn, Author: Mark Twain\n",
      "Book: War and Peace, Author: Leo Tolstoy\n",
      "Book: The Old Man and the Sea, Author: Ernest Hemingway\n",
      "Book: The Great Gatsby, Author: F. Scott Fitzgerald\n",
      "Book: To Kill a Mockingbird, Author: Harper Lee\n",
      "Book: Les Miserables, Author: Victor Hugo\n",
      "Book: One Hundred Years of Solitude, Author: Gabriel Garcia Marquez\n",
      "Book: Beloved, Author: Toni Morrison\n",
      "Book: The Time Machine, Author: H.G. Wells\n",
      "Book: Frankenstein, Author: Mary Shelley\n"
     ]
    }
   ],
   "source": [
    "# retreive all books and their authors \n",
    "# join based on author id\n",
    "connection = sqlite3.connect(\"library.db\")\n",
    "cursor = connection.cursor()\n",
    "query1 = \"\"\" Select B.title AS book_title, A.name as author_name FROM Books AS B\n",
    "join Authors AS A ON B.AuthorID = A.AuthorID; \"\"\"\n",
    "cursor.execute(query1)\n",
    "results1 = cursor.fetchall()\n",
    "for row in results1:\n",
    "    print(f\"Book: {row[0]}, Author: {row[1]}\")"
   ]
  },
  {
   "cell_type": "code",
   "execution_count": 8,
   "metadata": {},
   "outputs": [
    {
     "name": "stdout",
     "output_type": "stream",
     "text": [
      " Adding new borrower Roda Abdulkadir\n"
     ]
    }
   ],
   "source": [
    "# insert a new borrower\n",
    "\n",
    "query2 = \"\"\" INSERT INTO Borrowers (Name, Email)\n",
    "VALUES ('Roda Abdulkadir', 'rodaabdulkadir@email.com')\n",
    "\"\"\"\n",
    "cursor.execute(query2)\n",
    "connection.commit() \n",
    "print(\" Adding new borrower Roda Abdulkadir\")\n"
   ]
  },
  {
   "cell_type": "code",
   "execution_count": 11,
   "metadata": {},
   "outputs": [
    {
     "name": "stdout",
     "output_type": "stream",
     "text": [
      "\n",
      "3. Update a Borrower's Return Date:\n"
     ]
    }
   ],
   "source": [
    "# update a borrower's return date \n",
    "\n",
    "query3 = \"\"\" UPDATE BorrowedBooks\n",
    "SET ReturnDate = '2024-11-19'\n",
    "WHERE BorrowerID = 18 AND BookID = 12\n",
    "\"\"\"\n",
    "cursor.execute(query3)\n",
    "connection.commit()\n",
    "print(\"\\n3. Update a Borrower's Return Date:\")"
   ]
  },
  {
   "cell_type": "code",
   "execution_count": 9,
   "metadata": {},
   "outputs": [],
   "source": [
    "# find overdue books (using today's date)"
   ]
  },
  {
   "cell_type": "code",
   "execution_count": 5,
   "metadata": {},
   "outputs": [
    {
     "name": "stdout",
     "output_type": "stream",
     "text": [
      "1. Convert All Book Titles to Uppercase:\n",
      "(\"HARRY POTTER AND THE SORCERER'S STONE\",)\n",
      "('HARRY POTTER AND THE CHAMBER OF SECRETS',)\n",
      "('A GAME OF THRONES',)\n",
      "('THE HOBBIT',)\n",
      "('MURDER ON THE ORIENT EXPRESS',)\n",
      "('THE SHINING',)\n",
      "('FOUNDATION',)\n",
      "(\"THE HANDMAID'S TALE\",)\n",
      "('PRIDE AND PREJUDICE',)\n",
      "('GREAT EXPECTATIONS',)\n",
      "('ADVENTURES OF HUCKLEBERRY FINN',)\n",
      "('WAR AND PEACE',)\n",
      "('THE OLD MAN AND THE SEA',)\n",
      "('THE GREAT GATSBY',)\n",
      "('TO KILL A MOCKINGBIRD',)\n",
      "('LES MISERABLES',)\n",
      "('ONE HUNDRED YEARS OF SOLITUDE',)\n",
      "('BELOVED',)\n",
      "('THE TIME MACHINE',)\n",
      "('FRANKENSTEIN',)\n"
     ]
    }
   ],
   "source": [
    "# 1. Convert All Book Titles to Uppercase\n",
    "\n",
    "query1 = \"\"\"\n",
    "SELECT UPPER(title) as upper_case_title\n",
    "FROM books;\n",
    "\"\"\"\n",
    "cursor.execute(query1)\n",
    "result1 = cursor.fetchall()\n",
    "print(\"1. Convert All Book Titles to Uppercase:\")\n",
    "for row in result1:\n",
    "\n",
    "    print(row)\n"
   ]
  },
  {
   "cell_type": "code",
   "execution_count": 6,
   "metadata": {},
   "outputs": [
    {
     "name": "stdout",
     "output_type": "stream",
     "text": [
      "\n",
      "2. Find Borrowers with Short Names:\n",
      "('Bob Smith',)\n",
      "('Eve Adams',)\n",
      "('Hank Pym',)\n",
      "('Jack Ryan',)\n"
     ]
    }
   ],
   "source": [
    "# 2. Find Borrowers with Short Names (<= 10 characters)\n",
    "\n",
    "query2 = \"\"\"\n",
    "SELECT Name\n",
    "From Borrowers\n",
    "WHERE LENGTH(NAME) <10;\n",
    "\n",
    "\"\"\"\n",
    "cursor.execute(query2)\n",
    "result2 = cursor.fetchall()\n",
    "print(\"\\n2. Find Borrowers with Short Names:\")\n",
    "for row in result2:\n",
    "\n",
    "    print(row)"
   ]
  },
  {
   "cell_type": "code",
   "execution_count": 20,
   "metadata": {},
   "outputs": [
    {
     "name": "stdout",
     "output_type": "stream",
     "text": [
      "\n",
      "3. Count Books Borrowed Each Year:\n",
      "(20, '2024')\n"
     ]
    }
   ],
   "source": [
    "# 3. Count Books Borrowed Each Year\n",
    "\n",
    "query3 = \"\"\"\n",
    "SELECT COUNT(BookID) AS books_borrowed, STRFTIME('%Y', BorrowedDate) AS Year\n",
    "FROM BorrowedBooks\n",
    "GROUP BY Year;\n",
    "\"\"\"\n",
    "cursor.execute(query3)\n",
    "result3 = cursor.fetchall()\n",
    "print(\"\\n3. Count Books Borrowed Each Year:\")\n",
    "for row in result3:\n",
    "    print(row)"
   ]
  },
  {
   "cell_type": "code",
   "execution_count": null,
   "metadata": {},
   "outputs": [
    {
     "name": "stdout",
     "output_type": "stream",
     "text": [
      "\n",
      "7. Count Books Borrowed on Each Day of the Week:\n",
      "(3, '0')\n",
      "(3, '2')\n",
      "(5, '3')\n",
      "(3, '4')\n",
      "(2, '5')\n",
      "(4, '6')\n"
     ]
    }
   ],
   "source": [
    "# 7. Count Books Borrowed on Each Day of the Week\n",
    "\n",
    "query7 = \"\"\"\n",
    "SELECT COUNT(BookID) AS books_borrowed, STRFTIME('%w', BorrowedDate) AS DayOfWeek\n",
    "FROM BorrowedBooks\n",
    "GROUP BY DayOfWeek;\n",
    "\"\"\"\n",
    "cursor.execute(query7)\n",
    "result7 = cursor.fetchall()\n",
    "print(\"\\n7. Count Books Borrowed on Each Day of the Week:\")\n",
    "for row in result7:\n",
    "    print(row)"
   ]
  },
  {
   "cell_type": "code",
   "execution_count": 47,
   "metadata": {},
   "outputs": [
    {
     "name": "stdout",
     "output_type": "stream",
     "text": [
      "\n",
      "8. Find the Most Common Day of the Week a Book Was Borrowed:\n",
      "(5, '3')\n"
     ]
    }
   ],
   "source": [
    "# 8. Find the Most Common Day of the Week a Book Was Borrowed\n",
    "\n",
    "query8 = \"\"\"\n",
    "SELECT COUNT(BookID) AS books_borrowed, STRFTIME('%w', BorrowedDate) AS DayOfWeek\n",
    "FROM BorrowedBooks\n",
    "GROUP BY DayOfWeek \n",
    "ORDER BY books_borrowed DESC\n",
    "LIMIT 1;\n",
    "\"\"\" \n",
    "cursor.execute(query8)\n",
    "result8 = cursor.fetchall()\n",
    "print(\"\\n8. Find the Most Common Day of the Week a Book Was Borrowed:\")\n",
    "for row in result8:\n",
    "\n",
    "    print(row)"
   ]
  }
 ],
 "metadata": {
  "kernelspec": {
   "display_name": "Python 3",
   "language": "python",
   "name": "python3"
  },
  "language_info": {
   "codemirror_mode": {
    "name": "ipython",
    "version": 3
   },
   "file_extension": ".py",
   "mimetype": "text/x-python",
   "name": "python",
   "nbconvert_exporter": "python",
   "pygments_lexer": "ipython3",
   "version": "3.10.4"
  }
 },
 "nbformat": 4,
 "nbformat_minor": 2
}
