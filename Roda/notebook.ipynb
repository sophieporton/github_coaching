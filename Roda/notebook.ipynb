{
 "cells": [
  {
   "cell_type": "code",
   "execution_count": 2,
   "metadata": {},
   "outputs": [],
   "source": [
    "import sqlite3\n",
    "from datetime import date, timedelta\n",
    "import random"
   ]
  },
  {
   "cell_type": "code",
   "execution_count": 6,
   "metadata": {},
   "outputs": [
    {
     "name": "stdout",
     "output_type": "stream",
     "text": [
      "Book: Harry Potter and the Sorcerer's Stone, Author: J.K. Rowling\n",
      "Book: Harry Potter and the Chamber of Secrets, Author: J.K. Rowling\n",
      "Book: A Game of Thrones, Author: George R.R. Martin\n",
      "Book: The Hobbit, Author: J.R.R. Tolkien\n",
      "Book: Murder on the Orient Express, Author: Agatha Christie\n",
      "Book: The Shining, Author: Stephen King\n",
      "Book: Foundation, Author: Isaac Asimov\n",
      "Book: The Handmaid's Tale, Author: Margaret Atwood\n",
      "Book: Pride and Prejudice, Author: Jane Austen\n",
      "Book: Great Expectations, Author: Charles Dickens\n",
      "Book: Adventures of Huckleberry Finn, Author: Mark Twain\n",
      "Book: War and Peace, Author: Leo Tolstoy\n",
      "Book: The Old Man and the Sea, Author: Ernest Hemingway\n",
      "Book: The Great Gatsby, Author: F. Scott Fitzgerald\n",
      "Book: To Kill a Mockingbird, Author: Harper Lee\n",
      "Book: Les Miserables, Author: Victor Hugo\n",
      "Book: One Hundred Years of Solitude, Author: Gabriel Garcia Marquez\n",
      "Book: Beloved, Author: Toni Morrison\n",
      "Book: The Time Machine, Author: H.G. Wells\n",
      "Book: Frankenstein, Author: Mary Shelley\n"
     ]
    }
   ],
   "source": [
    "# retreive all books and their authors \n",
    "# join based on author id\n",
    "connection = sqlite3.connect(\"library.db\")\n",
    "cursor = connection.cursor()\n",
    "query1 = \"\"\" Select B.title AS book_title, A.name as author_name FROM Books AS B\n",
    "join Authors AS A ON B.AuthorID = A.AuthorID; \"\"\"\n",
    "cursor.execute(query1)\n",
    "results1 = cursor.fetchall()\n",
    "for row in results1:\n",
    "    print(f\"Book: {row[0]}, Author: {row[1]}\")"
   ]
  },
  {
   "cell_type": "code",
   "execution_count": null,
   "metadata": {},
   "outputs": [
    {
     "ename": "NameError",
     "evalue": "name 'cursor' is not defined",
     "output_type": "error",
     "traceback": [
      "\u001b[1;31m---------------------------------------------------------------------------\u001b[0m",
      "\u001b[1;31mNameError\u001b[0m                                 Traceback (most recent call last)",
      "Cell \u001b[1;32mIn[1], line 5\u001b[0m\n\u001b[0;32m      1\u001b[0m \u001b[38;5;66;03m# insert a new borrower\u001b[39;00m\n\u001b[0;32m      3\u001b[0m query2 \u001b[38;5;241m=\u001b[39m \u001b[38;5;124m\"\"\"\u001b[39m\u001b[38;5;124m)\u001b[39m\n\u001b[0;32m      4\u001b[0m \u001b[38;5;124m\"\"\"\u001b[39m\n\u001b[1;32m----> 5\u001b[0m \u001b[43mcursor\u001b[49m\u001b[38;5;241m.\u001b[39mexecute(query2)\n\u001b[0;32m      6\u001b[0m connection\u001b[38;5;241m.\u001b[39mcommit() \n\u001b[0;32m      7\u001b[0m \u001b[38;5;28mprint\u001b[39m(\u001b[38;5;124m\"\u001b[39m\u001b[38;5;124m\"\u001b[39m)\n",
      "\u001b[1;31mNameError\u001b[0m: name 'cursor' is not defined"
     ]
    }
   ],
   "source": [
    "# insert a new borrower\n"
   ]
  },
  {
   "cell_type": "code",
   "execution_count": 8,
   "metadata": {},
   "outputs": [],
   "source": [
    "# update a borrower's return date "
   ]
  },
  {
   "cell_type": "code",
   "execution_count": 9,
   "metadata": {},
   "outputs": [],
   "source": [
    "# find overdue books (using today's date)"
   ]
  }
 ],
 "metadata": {
  "kernelspec": {
   "display_name": "Python 3",
   "language": "python",
   "name": "python3"
  },
  "language_info": {
   "codemirror_mode": {
    "name": "ipython",
    "version": 3
   },
   "file_extension": ".py",
   "mimetype": "text/x-python",
   "name": "python",
   "nbconvert_exporter": "python",
   "pygments_lexer": "ipython3",
   "version": "3.10.4"
  }
 },
 "nbformat": 4,
 "nbformat_minor": 2
}
