{
 "cells": [
  {
   "cell_type": "code",
   "execution_count": 1,
   "metadata": {},
   "outputs": [],
   "source": [
    "import sqlite3"
   ]
  },
  {
   "cell_type": "code",
   "execution_count": 2,
   "metadata": {},
   "outputs": [],
   "source": [
    "connection = sqlite3.connect(\"library.db\")\n",
    "cursor = connection.cursor()"
   ]
  },
  {
   "cell_type": "code",
   "execution_count": 6,
   "metadata": {},
   "outputs": [
    {
     "name": "stdout",
     "output_type": "stream",
     "text": [
      "[(1, \"Harry Potter and the Sorcerer's Stone\", 'Fantasy', 1), (2, 'Harry Potter and the Chamber of Secrets', 'Fantasy', 1), (3, 'A Game of Thrones', 'Fantasy', 2), (4, 'The Hobbit', 'Fantasy', 3), (5, 'Murder on the Orient Express', 'Mystery', 4), (6, 'The Shining', 'Horror', 5), (7, 'Foundation', 'Science Fiction', 6), (8, \"The Handmaid's Tale\", 'Dystopian', 7), (9, 'Pride and Prejudice', 'Romance', 8), (10, 'Great Expectations', 'Classic', 9), (11, 'Adventures of Huckleberry Finn', 'Adventure', 10), (12, 'War and Peace', 'Historical Fiction', 11), (13, 'The Old Man and the Sea', 'Classic', 12), (14, 'The Great Gatsby', 'Classic', 13), (15, 'To Kill a Mockingbird', 'Classic', 14), (16, 'Les Miserables', 'Classic', 15), (17, 'One Hundred Years of Solitude', 'Magic Realism', 16), (18, 'Beloved', 'Historical Fiction', 17), (19, 'The Time Machine', 'Science Fiction', 18), (20, 'Frankenstein', 'Horror', 20)]\n"
     ]
    }
   ],
   "source": [
    "query1 = \"\"\"SELECT * FROM Books;\"\"\"\n",
    "cursor.execute(query1)\n",
    "results1 = cursor.fetchall()\n",
    "print(results1)"
   ]
  },
  {
   "cell_type": "code",
   "execution_count": 9,
   "metadata": {},
   "outputs": [
    {
     "name": "stdout",
     "output_type": "stream",
     "text": [
      "[(2, 'Bob Smith', 'bob.smith@example.com')]\n"
     ]
    }
   ],
   "source": [
    "query2 = \"\"\"SELECT * FROM Borrowers WHERE Name = 'Bob Smith'; \"\"\"\n",
    "cursor.execute(query2)\n",
    "results2 = cursor.fetchall()\n",
    "print(results2)"
   ]
  },
  {
   "cell_type": "code",
   "execution_count": 14,
   "metadata": {},
   "outputs": [
    {
     "name": "stdout",
     "output_type": "stream",
     "text": [
      "[(20,), (18,), (17,), (16,), (14,), (13,), (11,), (9,), (8,), (7,), (6,), (5,), (4,), (3,), (1,)]\n"
     ]
    }
   ],
   "source": [
    "query3 = \"\"\"SELECT DISTINCT BB.BookID FROM BorrowedBooks AS BB ORDER BY BB.BookID DESC;\"\"\"\n",
    "cursor.execute(query3)\n",
    "results3 = cursor.fetchall()\n",
    "print(results3)"
   ]
  },
  {
   "cell_type": "code",
   "execution_count": 29,
   "metadata": {},
   "outputs": [],
   "source": [
    "query4 = \"\"\"INSERT INTO Authors (Name, Country) VALUES ('Lucy Smith', 'Morroco');\"\"\"\n",
    "cursor.execute(query4)\n",
    "connection.commit()"
   ]
  }
 ],
 "metadata": {
  "kernelspec": {
   "display_name": "Python 3",
   "language": "python",
   "name": "python3"
  },
  "language_info": {
   "codemirror_mode": {
    "name": "ipython",
    "version": 3
   },
   "file_extension": ".py",
   "mimetype": "text/x-python",
   "name": "python",
   "nbconvert_exporter": "python",
   "pygments_lexer": "ipython3",
   "version": "3.9.6"
  }
 },
 "nbformat": 4,
 "nbformat_minor": 2
}
