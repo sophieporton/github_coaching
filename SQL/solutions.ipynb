{
 "cells": [
  {
   "cell_type": "code",
   "execution_count": 1,
   "metadata": {},
   "outputs": [
    {
     "ename": "NameError",
     "evalue": "name 'sqlite3' is not defined",
     "output_type": "error",
     "traceback": [
      "\u001b[1;31m---------------------------------------------------------------------------\u001b[0m",
      "\u001b[1;31mNameError\u001b[0m                                 Traceback (most recent call last)",
      "Cell \u001b[1;32mIn[1], line 1\u001b[0m\n\u001b[1;32m----> 1\u001b[0m connection \u001b[38;5;241m=\u001b[39m \u001b[43msqlite3\u001b[49m\u001b[38;5;241m.\u001b[39mconnect(\u001b[38;5;124m\"\u001b[39m\u001b[38;5;124mlibrary.db\u001b[39m\u001b[38;5;124m\"\u001b[39m)\n\u001b[0;32m      2\u001b[0m cursor \u001b[38;5;241m=\u001b[39m connection\u001b[38;5;241m.\u001b[39mcursor()\n\u001b[0;32m      3\u001b[0m query1 \u001b[38;5;241m=\u001b[39m \u001b[38;5;124m\"\"\"\u001b[39m\n\u001b[0;32m      4\u001b[0m \u001b[38;5;124mSELECT \u001b[39m\n\u001b[0;32m      5\u001b[0m \u001b[38;5;124m    Books.Title AS BookTitle,\u001b[39m\n\u001b[1;32m   (...)\u001b[0m\n\u001b[0;32m     12\u001b[0m \u001b[38;5;124m    Books.AuthorID = Authors.AuthorID;\u001b[39m\n\u001b[0;32m     13\u001b[0m \u001b[38;5;124m\"\"\"\u001b[39m\n",
      "\u001b[1;31mNameError\u001b[0m: name 'sqlite3' is not defined"
     ]
    }
   ],
   "source": [
    "connection = sqlite3.connect(\"library.db\")\n",
    "cursor = connection.cursor()\n",
    "query1 = \"\"\"\n",
    "SELECT \n",
    "    Books.Title AS BookTitle,\n",
    "    Authors.Name AS AuthorName\n",
    "FROM \n",
    "    Books\n",
    "JOIN \n",
    "    Authors\n",
    "ON \n",
    "    Books.AuthorID = Authors.AuthorID;\n",
    "\"\"\"\n",
    "cursor.execute(query1)\n",
    "results1 = cursor.fetchall()\n",
    "for row in results1:\n",
    "    print(f\"Book: {row[0]}, Author: {row[1]}\")\n",
    "\n",
    "# 2. Insert a new borrower\n",
    "query2 = \"\"\"\n",
    "INSERT INTO Borrowers (Name, Email)\n",
    "VALUES ('Bruce Wayne', 'bruce.wayne@example.com');\n",
    "\"\"\"\n",
    "cursor.execute(query2)\n",
    "connection.commit() \n",
    "print(\"New borrower 'Bruce Wayne' added.\")\n",
    "\n",
    "# 3. Update a borrower's return date\n",
    "print(\"\\n3. Update a Borrower's Return Date:\")\n",
    "query3 = \"\"\"\n",
    "UPDATE BorrowedBooks\n",
    "SET ReturnDate = '2024-11-18'\n",
    "WHERE BorrowerID = 2 AND BookID = 3;\n",
    "\"\"\"\n",
    "cursor.execute(query3)\n",
    "connection.commit()\n",
    "\n",
    "# 4. Advanced Query: Find overdue books\n",
    "print(\"\\n4. Overdue Books:\")\n",
    "query4 = \"\"\"\n",
    "SELECT \n",
    "    BorrowedBooks.BorrowedID,\n",
    "    Borrowers.Name AS BorrowerName,\n",
    "    Books.Title AS BookTitle,\n",
    "    BorrowedBooks.BorrowedDate\n",
    "FROM \n",
    "    BorrowedBooks\n",
    "JOIN \n",
    "    Borrowers\n",
    "ON \n",
    "    BorrowedBooks.BorrowerID = Borrowers.BorrowerID\n",
    "JOIN \n",
    "    Books\n",
    "ON \n",
    "    BorrowedBooks.BookID = Books.BookID\n",
    "WHERE \n",
    "    BorrowedBooks.ReturnDate IS NULL\n",
    "    AND BorrowedBooks.BorrowedDate < DATE('2024-11-08'); -- Assuming a 10-day loan period\n",
    "\"\"\"\n",
    "cursor.execute(query4)\n",
    "results4 = cursor.fetchall()\n",
    "for row in results4:\n",
    "    print(f\"BorrowedID: {row[0]}, Borrower: {row[1]}, Book: {row[2]}, Borrowed Date: {row[3]}\")\n",
    "\n",
    "# Close the connection\n",
    "connection.close()"
   ]
  }
 ],
 "metadata": {
  "kernelspec": {
   "display_name": "Python 3",
   "language": "python",
   "name": "python3"
  },
  "language_info": {
   "codemirror_mode": {
    "name": "ipython",
    "version": 3
   },
   "file_extension": ".py",
   "mimetype": "text/x-python",
   "name": "python",
   "nbconvert_exporter": "python",
   "pygments_lexer": "ipython3",
   "version": "3.10.4"
  }
 },
 "nbformat": 4,
 "nbformat_minor": 2
}
