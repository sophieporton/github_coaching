{
 "cells": [
  {
   "cell_type": "code",
   "execution_count": null,
   "metadata": {},
   "outputs": [],
   "source": [
    "import sqlite3\n",
    "from datetime import date, timedelta\n",
    "import random"
   ]
  },
  {
   "cell_type": "code",
   "execution_count": null,
   "metadata": {},
   "outputs": [],
   "source": [
    "# Connect to the SQLite database (or create it if it doesn't exist)\n",
    "connection = sqlite3.connect(\"library.db\")\n",
    "cursor = connection.cursor()"
   ]
  },
  {
   "cell_type": "code",
   "execution_count": null,
   "metadata": {},
   "outputs": [
    {
     "data": {
      "text/plain": [
       "<sqlite3.Cursor at 0x106b2ce40>"
      ]
     },
     "metadata": {},
     "output_type": "display_data"
    }
   ],
   "source": [
    "# Create the Authors table\n",
    "cursor.execute('''\n",
    "CREATE TABLE IF NOT EXISTS Authors (\n",
    "    AuthorID INTEGER PRIMARY KEY AUTOINCREMENT,\n",
    "    Name TEXT NOT NULL,\n",
    "    Country TEXT\n",
    ")\n",
    "''')\n",
    "\n",
    "# Create the Books table\n",
    "cursor.execute('''\n",
    "CREATE TABLE IF NOT EXISTS Books (\n",
    "    BookID INTEGER PRIMARY KEY AUTOINCREMENT,\n",
    "    Title TEXT NOT NULL,\n",
    "    Genre TEXT,\n",
    "    AuthorID INTEGER NOT NULL,\n",
    "    FOREIGN KEY (AuthorID) REFERENCES Authors(AuthorID)\n",
    ")\n",
    "''')\n",
    "\n",
    "# Create the Borrowers table\n",
    "cursor.execute('''\n",
    "CREATE TABLE IF NOT EXISTS Borrowers (\n",
    "    BorrowerID INTEGER PRIMARY KEY AUTOINCREMENT,\n",
    "    Name TEXT NOT NULL,\n",
    "    Email TEXT UNIQUE NOT NULL\n",
    ")\n",
    "''')\n",
    "\n",
    "# Create the BorrowedBooks table\n",
    "cursor.execute('''\n",
    "CREATE TABLE IF NOT EXISTS BorrowedBooks (\n",
    "    BorrowedID INTEGER PRIMARY KEY AUTOINCREMENT,\n",
    "    BorrowerID INTEGER NOT NULL,\n",
    "    BookID INTEGER NOT NULL,\n",
    "    BorrowedDate DATE NOT NULL,\n",
    "    ReturnDate DATE,\n",
    "    FOREIGN KEY (BorrowerID) REFERENCES Borrowers(BorrowerID),\n",
    "    FOREIGN KEY (BookID) REFERENCES Books(BookID)\n",
    ")\n",
    "''')"
   ]
  },
  {
   "cell_type": "code",
   "execution_count": null,
   "metadata": {},
   "outputs": [
    {
     "data": {
      "text/plain": [
       "<sqlite3.Cursor at 0x106b2ce40>"
      ]
     },
     "metadata": {},
     "output_type": "display_data"
    }
   ],
   "source": [
    "# Insert authors\n",
    "\n",
    "authors = [\n",
    "    (\"J.K. Rowling\", \"United Kingdom\"),\n",
    "    (\"George R.R. Martin\", \"United States\"),\n",
    "    (\"J.R.R. Tolkien\", \"United Kingdom\"),\n",
    "    (\"Agatha Christie\", \"United Kingdom\"),\n",
    "    (\"Stephen King\", \"United States\"),\n",
    "    (\"Isaac Asimov\", \"Russia\"),\n",
    "    (\"Margaret Atwood\", \"Canada\"),\n",
    "    (\"Jane Austen\", \"United Kingdom\"),\n",
    "    (\"Charles Dickens\", \"United Kingdom\"),\n",
    "    (\"Mark Twain\", \"United States\"),\n",
    "    (\"Leo Tolstoy\", \"Russia\"),\n",
    "    (\"Ernest Hemingway\", \"United States\"),\n",
    "    (\"F. Scott Fitzgerald\", \"United States\"),\n",
    "    (\"Harper Lee\", \"United States\"),\n",
    "    (\"Victor Hugo\", \"France\"),\n",
    "    (\"Gabriel Garcia Marquez\", \"Colombia\"),\n",
    "    (\"Toni Morrison\", \"United States\"),\n",
    "    (\"H.G. Wells\", \"United Kingdom\"),\n",
    "    (\"Franz Kafka\", \"Austria-Hungary\"),\n",
    "    (\"Mary Shelley\", \"United Kingdom\")\n",
    "]\n",
    "cursor.executemany(\"INSERT INTO Authors (Name, Country) VALUES (?, ?)\", authors)\n",
    "\n",
    "# Insert books\n",
    "books = [\n",
    "    (\"Harry Potter and the Sorcerer's Stone\", \"Fantasy\", 1),\n",
    "    (\"Harry Potter and the Chamber of Secrets\", \"Fantasy\", 1),\n",
    "    (\"A Game of Thrones\", \"Fantasy\", 2),\n",
    "    (\"The Hobbit\", \"Fantasy\", 3),\n",
    "    (\"Murder on the Orient Express\", \"Mystery\", 4),\n",
    "    (\"The Shining\", \"Horror\", 5),\n",
    "    (\"Foundation\", \"Science Fiction\", 6),\n",
    "    (\"The Handmaid's Tale\", \"Dystopian\", 7),\n",
    "    (\"Pride and Prejudice\", \"Romance\", 8),\n",
    "    (\"Great Expectations\", \"Classic\", 9),\n",
    "    (\"Adventures of Huckleberry Finn\", \"Adventure\", 10),\n",
    "    (\"War and Peace\", \"Historical Fiction\", 11),\n",
    "    (\"The Old Man and the Sea\", \"Classic\", 12),\n",
    "    (\"The Great Gatsby\", \"Classic\", 13),\n",
    "    (\"To Kill a Mockingbird\", \"Classic\", 14),\n",
    "    (\"Les Miserables\", \"Classic\", 15),\n",
    "    (\"One Hundred Years of Solitude\", \"Magic Realism\", 16),\n",
    "    (\"Beloved\", \"Historical Fiction\", 17),\n",
    "    (\"The Time Machine\", \"Science Fiction\", 18),\n",
    "    (\"Frankenstein\", \"Horror\", 20)\n",
    "]\n",
    "cursor.executemany(\"INSERT INTO Books (Title, Genre, AuthorID) VALUES (?, ?, ?)\", books)\n",
    "\n",
    "# Insert borrower names and emails\n",
    "borrowers = [\n",
    "    (\"Alice Johnson\", \"alice.johnson@example.com\"),\n",
    "    (\"Bob Smith\", \"bob.smith@example.com\"),\n",
    "    (\"Charlie Brown\", \"charlie.brown@example.com\"),\n",
    "    (\"Diana Prince\", \"diana.prince@example.com\"),\n",
    "    (\"Eve Adams\", \"eve.adams@example.com\"),\n",
    "    (\"Frank Castle\", \"frank.castle@example.com\"),\n",
    "    (\"Grace Hopper\", \"grace.hopper@example.com\"),\n",
    "    (\"Hank Pym\", \"hank.pym@example.com\"),\n",
    "    (\"Ivy Carter\", \"ivy.carter@example.com\"),\n",
    "    (\"Jack Ryan\", \"jack.ryan@example.com\"),\n",
    "    (\"Karen Page\", \"karen.page@example.com\"),\n",
    "    (\"Liam Neeson\", \"liam.neeson@example.com\"),\n",
    "    (\"Maggie Smith\", \"maggie.smith@example.com\"),\n",
    "    (\"Nina Simone\", \"nina.simone@example.com\"),\n",
    "    (\"Oscar Wilde\", \"oscar.wilde@example.com\"),\n",
    "    (\"Pam Beesly\", \"pam.beesly@example.com\"),\n",
    "    (\"Quinn Fabray\", \"quinn.fabray@example.com\"),\n",
    "    (\"Rachel Green\", \"rachel.green@example.com\"),\n",
    "    (\"Steve Rogers\", \"steve.rogers@example.com\"),\n",
    "    (\"Tony Stark\", \"tony.stark@example.com\")\n",
    "]\n",
    "cursor.executemany(\"INSERT INTO Borrowers (Name, Email) VALUES (?, ?)\", borrowers)\n",
    "\n",
    "# Insert borrow records\n",
    "borrowed_books = []\n",
    "for i in range(20):\n",
    "    borrower_id = random.randint(1, 20)\n",
    "    book_id = random.randint(1, 20) \n",
    "    borrowed_date = date(2024, 11, 1) + timedelta(days=random.randint(-30, 30))\n",
    "    return_date = (\n",
    "        borrowed_date + timedelta(days=random.randint(1, 15)) \n",
    "        if random.random() > 0.3  \n",
    "        else None\n",
    "    )\n",
    "    borrowed_books.append((borrower_id, book_id, borrowed_date, return_date))\n",
    "\n",
    "cursor.executemany(\n",
    "    \"INSERT INTO BorrowedBooks (BorrowerID, BookID, BorrowedDate, ReturnDate) VALUES (?, ?, ?, ?)\",\n",
    "    borrowed_books\n",
    ")"
   ]
  },
  {
   "cell_type": "code",
   "execution_count": null,
   "metadata": {},
   "outputs": [],
   "source": [
    "# 1. Select all books and their authors \n",
    "\n",
    "connection = sqlite3.connect(\"library.db\")\n",
    "cursor = connection.cursor()\n",
    "query1 = \"\"\"\n",
    "\n",
    "\"\"\"\n",
    "cursor.execute(query1)\n",
    "results1 = cursor.fetchall()\n",
    "for row in results1:\n",
    "    print(f\"Book: {row[0]}, Author: {row[1]}\")"
   ]
  },
  {
   "cell_type": "code",
   "execution_count": null,
   "metadata": {},
   "outputs": [],
   "source": [
    "# 2. Insert a new borrower\n",
    "query2 = \"\"\"\n",
    "\n",
    "\"\"\"\n",
    "cursor.execute(query2)\n",
    "connection.commit() "
   ]
  },
  {
   "cell_type": "code",
   "execution_count": null,
   "metadata": {},
   "outputs": [],
   "source": [
    "# 3. Update a borrower's return date\n",
    "query3 = \"\"\"\n",
    "\"\"\"\n",
    "cursor.execute(query3)\n",
    "connection.commit()"
   ]
  },
  {
   "cell_type": "code",
   "execution_count": null,
   "metadata": {},
   "outputs": [],
   "source": [
    "# 4.  Find overdue books\n",
    "query4 = \"\"\"\n",
    "\n",
    "\"\"\"\n",
    "cursor.execute(query4)\n",
    "results4 = cursor.fetchall()\n",
    "for row in results4:\n",
    "    print(f\"BorrowedID: {row[0]}, Borrower: {row[1]}, Book: {row[2]}, Borrowed Date: {row[3]}\")"
   ]
  },
  {
   "cell_type": "code",
   "execution_count": null,
   "metadata": {},
   "outputs": [],
   "source": [
    "# Commit changes and close the connection\n",
    "connection.commit()\n",
    "connection.close()"
   ]
  }
 ],
 "metadata": {
  "language_info": {
   "name": "python"
  }
 },
 "nbformat": 4,
 "nbformat_minor": 2
}
